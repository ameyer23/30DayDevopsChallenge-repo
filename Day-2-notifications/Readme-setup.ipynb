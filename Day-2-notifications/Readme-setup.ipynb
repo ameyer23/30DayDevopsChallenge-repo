{
 "cells": [
  {
   "cell_type": "markdown",
   "id": "7307739c",
   "metadata": {},
   "source": [
    "# Day 2 of the 30-day DevOpsAllStarChallenge - Game Day Notification Solution\n",
    "\n",
    "\n",
    "The goal of this project is to automate the process of gathering game information by having AWS Lambda query an API, process the data, and schedule its delivery with EventBridge to our email or phone number via Amazon SNS. This solution will leverage serverless technology to simplify operations and ensure scalability. \n",
    "\n",
    "![Architecture Diagram](./architecture.png)\n",
    "   \n",
    "## Breakdown of Services Used\n",
    "### 1. API\n",
    "\n",
    "APIs act as intermediaries that help applications to communicate and exchange data. They receive requests, process them via a backend, and then return responses.\n",
    "\n",
    "\n",
    "### 2. AWS Lambda\n",
    "Lambda is one of AWS' serverless compute solutions. It lets us run code without having to worry about managing a server, which can be costly. In addition, this solution makes scalability possible if demand for game data were to suddenly increase. In this scenario, Lambda will run the code that will query our API, return a JSON response that will need to be translated into a human readable format to be sent to our email or phone number.\n",
    "\n",
    "\n",
    "## 3. Amazon SNS (Simple Notification Service)\n",
    "SNS will recieve data from Lambda and push notifications to endpoints (subscribers), which are a phone number and email in this case.\n",
    "\n",
    "## 4. Amazon EventBridge\n",
    "Now, we don't want to be bonmbarded by notifications ALL the time. instead, we will introduce some automation by using an EventBridge rule that will invoke our Lambda function to retrieve game data at specified intervals. This scheduling of a task is also known as a cron job. \n",
    "\n",
    "\n",
    "## Conclusion\n",
    "Ultimately, all these services work together to automate the retrieval, processing, and delivery game data using serverless and cost-effecive solutions. Event-driven solutions like this one reduce manual effort and increase efficiency. \n",
    "\n",
    "\n",
    "\n",
    "\n",
    "\n",
    "\n",
    "\n",
    "\n",
    "\n",
    "\n",
    "\n",
    "\n",
    "   \n",
    "### What is an API?\n",
    "APIs act as intermediaries that enable applications to communicate and exchange data. They receive requests, process them via a backend, and then return responses. Note that the requests have to be processed by some compute service like EC2. Tracking is done by a DB. \n",
    "\n",
    "### What is Lambda \n",
    "\n",
    "Lambda one of AWS' serverless compute solutions. It lets us run code without having to worry about managing  server, which can be costly. In addition, this solution makes scalability possible. In this scenario, Lambda will run the code that will query our API, return a JSON response that will need to br translated into a human readable format to be sent to our email. \n",
    "\n",
    "### What about SNS?\n",
    "SNS pushes notifications to subscribers. We will actually be using EventBridge to schedule the push of these notificaitons. \n"
   ]
  },
  {
   "cell_type": "code",
   "execution_count": null,
   "id": "0592503f",
   "metadata": {},
   "outputs": [],
   "source": []
  }
 ],
 "metadata": {
  "kernelspec": {
   "display_name": "Python 3 (ipykernel)",
   "language": "python",
   "name": "python3"
  },
  "language_info": {
   "codemirror_mode": {
    "name": "ipython",
    "version": 3
   },
   "file_extension": ".py",
   "mimetype": "text/x-python",
   "name": "python",
   "nbconvert_exporter": "python",
   "pygments_lexer": "ipython3",
   "version": "3.10.9"
  }
 },
 "nbformat": 4,
 "nbformat_minor": 5
}
