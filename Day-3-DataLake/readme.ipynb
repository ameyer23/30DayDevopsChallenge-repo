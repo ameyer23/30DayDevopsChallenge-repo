{
 "cells": [
  {
   "cell_type": "markdown",
   "id": "acb768ec",
   "metadata": {},
   "source": [
    "* S3 will hold raw, unprocessed data (json file). This will store raw NBA data. \n",
    "\n",
    "* Glue is a serverless data integration serbice that will catalog data stored in s3 and enable schema definition for querying with athena. Glue prepared data for data analytics. Glue created metadata layer. \n",
    "\n",
    "* Glue crawler goes to bucket, gets unprocessed data, and take it to athena. \n",
    "\n",
    "* Athena interactive query service to query data stored in s3. Serverless. Executes sql queries on he glue catalog data in s3. This enables analytics. \n",
    "\n",
    "\n",
    "* Data lake: centralized repository that stores large volumes of raw, unprocessed data from various sources, including structured, semi-structured, and unstructured formats, allowing organizations to store data \"as-is\" without needing to pre-define its structure, enabling flexible analysis and insights through big data processing and machine learning tools. \n",
    "\n",
    "1. Run setup python code: \n",
    "* create virutal env: python3 -m venv \"filepath/venv\"\n",
    "* activate venv: source venv/bin/activate\n",
    "* install boto3: pip install boto3\n",
    "* run python: python3 nba-datalake-setup.py\n",
    "***** I had to run pip install requests becuase i got an error, ****ran pip install python-dotenv\n",
    " also\n",
    "* exit venv: exec $SHELL \n",
    "\n",
    "\n",
    "\n",
    "New:\n",
    "Athena actions like athena:StartQueryExecution, athena:GetQueryExecution, and athena:GetQueryResults do not require a Resource field at all.\n",
    "\n"
   ]
  },
  {
   "cell_type": "markdown",
   "id": "f5c182fe",
   "metadata": {},
   "source": [
    "when trying to implement the role, i got An error occurred\n",
    "[instance value (\"EN-US\") not found in enum (possible values: [\"DE\",\"EN\",\"ES\",\"FR\",\"IT\",\"JA\",\"KO\",\"PT_BR\",\"ZH_CN\",\"ZH_TW\"])]\n",
    "\n",
    "\n",
    "I had to replace EN-US with US in the API request header\n"
   ]
  },
  {
   "cell_type": "markdown",
   "id": "9ff815f5",
   "metadata": {},
   "source": [
    "my query results werent going to the correct location. Check for Athena Query Execution Logs:\n",
    "If the output is still being placed in the default \"unsaved\" location, you can check the Athena query execution logs to confirm if there was an issue with specifying the output location. You can do this by checking the QueryExecutionContext and ResultConfiguration details in the Athena console or via the AWS CLI."
   ]
  }
 ],
 "metadata": {
  "kernelspec": {
   "display_name": "Python 3 (ipykernel)",
   "language": "python",
   "name": "python3"
  },
  "language_info": {
   "codemirror_mode": {
    "name": "ipython",
    "version": 3
   },
   "file_extension": ".py",
   "mimetype": "text/x-python",
   "name": "python",
   "nbconvert_exporter": "python",
   "pygments_lexer": "ipython3",
   "version": "3.10.9"
  }
 },
 "nbformat": 4,
 "nbformat_minor": 5
}
