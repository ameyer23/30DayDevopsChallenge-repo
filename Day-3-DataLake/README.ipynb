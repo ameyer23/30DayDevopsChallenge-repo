{
 "cells": [
  {
   "cell_type": "markdown",
   "id": "a206caf4",
   "metadata": {},
   "source": [
    "* S3 will hold raw, unprocessed data (json file). This will store raw NBA data. \n",
    "\n",
    "* Glue is a serverless data integration serbice that will catalog data stored in s3 and enable schema definition for querying with athena. Glue prepared data for data analytics. Glue created metadata layer. \n",
    "\n",
    "* Glue crawler goes to bucket, gets unprocessed data, and take it to athena. \n",
    "\n",
    "* Athena interactive query service to query data stored in s3. Serverless. Executes sql queries on he glue catalog data in s3. This enables analytics. \n",
    "\n",
    "\n"
   ]
  }
 ],
 "metadata": {
  "kernelspec": {
   "display_name": "Python 3 (ipykernel)",
   "language": "python",
   "name": "python3"
  },
  "language_info": {
   "codemirror_mode": {
    "name": "ipython",
    "version": 3
   },
   "file_extension": ".py",
   "mimetype": "text/x-python",
   "name": "python",
   "nbconvert_exporter": "python",
   "pygments_lexer": "ipython3",
   "version": "3.10.9"
  }
 },
 "nbformat": 4,
 "nbformat_minor": 5
}
